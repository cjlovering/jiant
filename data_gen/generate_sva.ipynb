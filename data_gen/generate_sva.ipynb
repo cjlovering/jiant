{
 "cells": [
  {
   "cell_type": "code",
   "execution_count": 1,
   "metadata": {},
   "outputs": [],
   "source": [
    "import os\n",
    "import json\n",
    "import random"
   ]
  },
  {
   "cell_type": "code",
   "execution_count": 4,
   "metadata": {},
   "outputs": [
    {
     "name": "stdout",
     "output_type": "stream",
     "text": [
      "test-distractor_agreement_relational_noun_probing.jsonl\n",
      "train-distractor_agreement_relational_noun_probing-0.5.jsonl\n",
      "train-distractor_agreement_relational_noun_probing-0.6.jsonl\n",
      "train-distractor_agreement_relational_noun_probing-0.7.jsonl\n",
      "train-distractor_agreement_relational_noun_probing-0.8.jsonl\n",
      "train-distractor_agreement_relational_noun_probing-0.9.jsonl\n",
      "train-distractor_agreement_relational_noun_probing-1.0.jsonl\n",
      "val-distractor_agreement_relational_noun_probing-0.5.jsonl\n",
      "val-distractor_agreement_relational_noun_probing-0.6.jsonl\n",
      "val-distractor_agreement_relational_noun_probing-0.7.jsonl\n",
      "val-distractor_agreement_relational_noun_probing-0.8.jsonl\n",
      "val-distractor_agreement_relational_noun_probing-0.9.jsonl\n",
      "val-distractor_agreement_relational_noun_probing-1.0.jsonl\n"
     ]
    }
   ],
   "source": [
    "dir_name = \"orig_sva\"\n",
    "directory = os.fsencode(dir_name)\n",
    "\n",
    "i = 0\n",
    "data = []\n",
    "for f_name_bytes in os.listdir(directory):\n",
    "    f_name = os.fsdecode(f_name_bytes)\n",
    "    print(f_name)\n",
    "    with open(os.path.join(dir_name, f_name), \"r\") as f:\n",
    "        for l in f.readlines():\n",
    "            data.append(json.loads(l))"
   ]
  },
  {
   "cell_type": "code",
   "execution_count": 5,
   "metadata": {},
   "outputs": [
    {
     "name": "stdout",
     "output_type": "stream",
     "text": [
      "10002\n",
      "3932\n"
     ]
    }
   ],
   "source": [
    "# Hack to de-duplicate\n",
    "print(len(data))\n",
    "pair_by_sentence_good = {}\n",
    "for pair in data:\n",
    "    pair_by_sentence_good[pair[\"sentence_good\"]] = pair\n",
    "no_dup = pair_by_sentence_good.values() \n",
    "print(len(no_dup))"
   ]
  },
  {
   "cell_type": "code",
   "execution_count": 6,
   "metadata": {},
   "outputs": [
    {
     "name": "stdout",
     "output_type": "stream",
     "text": [
      "2101\n",
      "1831\n"
     ]
    }
   ],
   "source": [
    "co_occur = [pair for pair in no_dup if pair[\"co-occurs\"]]\n",
    "print(len(co_occur))\n",
    "random.shuffle(co_occur)\n",
    "\n",
    "no_co_occur = [pair for pair in no_dup if not pair[\"co-occurs\"]]\n",
    "print(len(no_co_occur))\n",
    "random.shuffle(no_co_occur)"
   ]
  },
  {
   "cell_type": "code",
   "execution_count": 7,
   "metadata": {},
   "outputs": [],
   "source": [
    "co_occur_copy = co_occur.copy()\n",
    "no_co_occur_copy = no_co_occur.copy()\n",
    "\n",
    "def jsonify(pair, good):\n",
    "    return {\"sentence\": pair[\"sentence_good\"] if good else pair[\"sentence_bad\"], \"label\": 1 if good else 0, \"co-occurs\": pair[\"co-occurs\"]}\n",
    "\n",
    "def make_set(co_occur_sample, no_co_occur_sample, both_count, neither_count, weak_only_count, strong_only_count, flip_weak_only=False):\n",
    "    both_els = [jsonify(pair, True) for pair in co_occur_sample[:both_count]].copy()\n",
    "    neither_els = [jsonify(pair, False) for pair in co_occur_sample[:neither_count]].copy()   \n",
    "    strong_only_els = [jsonify(pair, True) for pair in no_co_occur_sample[:strong_only_count]].copy()\n",
    "    weak_only_els = [jsonify(pair, False) for pair in no_co_occur_sample[:weak_only_count]].copy()\n",
    "    if flip_weak_only:\n",
    "        for ex in weak_only_els:\n",
    "            ex[\"label\"] = 1\n",
    "    \n",
    "    return both_els + neither_els + strong_only_els + weak_only_els\n",
    "\n",
    "def make_test(both_count, neither_count, weak_only_count, strong_only_count):\n",
    "    co_occur_count = max(both_count, neither_count)\n",
    "    co_occur_sample = co_occur_copy[:co_occur_count]\n",
    "    del co_occur_copy[:co_occur_count]\n",
    "    \n",
    "    no_co_occur_count = max(weak_only_count, strong_only_count)\n",
    "    no_co_occur_sample = no_co_occur_copy[:no_co_occur_count]\n",
    "    del no_co_occur_copy[:no_co_occur_count]\n",
    "\n",
    "    return make_set(co_occur_sample, no_co_occur_sample, both_count, neither_count, weak_only_count, strong_only_count)\n",
    "    \n",
    "# Assuming val should be distributed the same as train with 1/4 the data\n",
    "def make_train_and_val(both_count, neither_count, weak_only_count, strong_only_count, flip_weak_only=False):\n",
    "    co_occur_count = max(both_count, neither_count)\n",
    "    co_occur_sample = co_occur_copy[:int(co_occur_count*1.25)]\n",
    "    \n",
    "    no_co_occur_count = max(weak_only_count, strong_only_count)\n",
    "    no_co_occur_sample = no_co_occur_copy[:int(no_co_occur_count*1.25)]\n",
    "    \n",
    "    co_occur_train = co_occur_sample[:co_occur_count]\n",
    "    no_co_occur_train = no_co_occur_sample[:no_co_occur_count]\n",
    "    train = make_set(co_occur_train, no_co_occur_train, both_count, neither_count, weak_only_count, strong_only_count, flip_weak_only)\n",
    "    \n",
    "    co_occur_val = co_occur_sample[co_occur_count:]\n",
    "    no_co_occur_val = no_co_occur_sample[no_co_occur_count:]\n",
    "    val = make_set(co_occur_val, no_co_occur_val, int(both_count*0.25), int(neither_count*0.25), int(weak_only_count*0.25), int(strong_only_count*0.25), flip_weak_only)\n",
    "    \n",
    "    return train, val"
   ]
  },
  {
   "cell_type": "code",
   "execution_count": 8,
   "metadata": {},
   "outputs": [
    {
     "name": "stdout",
     "output_type": "stream",
     "text": [
      "test: 2000\n",
      "probing_strong: 2000, 500\n",
      "finetune_0: 2000, 500\n",
      "finetune_1: 2000, 500\n",
      "finetune_5: 2000, 500\n",
      "probing_weak: 2000, 500\n"
     ]
    }
   ],
   "source": [
    "import json\n",
    "import os\n",
    "\n",
    "# val will be distributed the same as each train with 1/4 of the data\n",
    "datasets = {\"test\": (500, 500, 500, 500), \n",
    "            \"probing_strong\": (1000, 0, 1000, 0), \n",
    "            \"finetune_0\": (1000, 1000, 0, 0),\n",
    "            \"finetune_1\": (1000, 980, 20, 0),\n",
    "            \"finetune_5\": (1000, 900, 100, 0),\n",
    "            \"probing_weak\": (0, 1000, 1000, 0)}\n",
    "\n",
    "for dataset_name in datasets:\n",
    "    dataset_counts = datasets[dataset_name]\n",
    "    if dataset_name == \"test\":\n",
    "        test = make_test(dataset_counts[0], dataset_counts[1], dataset_counts[2], dataset_counts[3])\n",
    "        print(f\"test: {len(test)}\")\n",
    "        with open(os.path.join(\"sva\", f\"sva_test.jsonl\"), \"w\") as f:\n",
    "            for el in test:\n",
    "                f.write(json.dumps(el) + \"\\n\")\n",
    "    else:\n",
    "        train, val = make_train_and_val(dataset_counts[0], dataset_counts[1], dataset_counts[2], dataset_counts[3], flip_weak_only=(dataset_name == \"probing_weak\"))\n",
    "        print(f\"{dataset_name}: {len(train)}, {len(val)}\")\n",
    "        with open(os.path.join(\"sva\", f\"sva_{dataset_name}_train.jsonl\"), \"w\") as f:\n",
    "            for el in train:\n",
    "                f.write(json.dumps(el) + \"\\n\")\n",
    "        with open(os.path.join(\"sva\", f\"sva_{dataset_name}_val.jsonl\"), \"w\") as f:\n",
    "            for el in val:\n",
    "                f.write(json.dumps(el) + \"\\n\")"
   ]
  }
 ],
 "metadata": {
  "kernelspec": {
   "display_name": "Python 3",
   "language": "python",
   "name": "python3"
  },
  "language_info": {
   "codemirror_mode": {
    "name": "ipython",
    "version": 3
   },
   "file_extension": ".py",
   "mimetype": "text/x-python",
   "name": "python",
   "nbconvert_exporter": "python",
   "pygments_lexer": "ipython3",
   "version": "3.7.0"
  }
 },
 "nbformat": 4,
 "nbformat_minor": 2
}
