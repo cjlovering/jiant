{
 "cells": [
  {
   "cell_type": "code",
   "execution_count": 2,
   "metadata": {},
   "outputs": [],
   "source": [
    "import os\n",
    "import random\n",
    "import numpy as np"
   ]
  },
  {
   "cell_type": "code",
   "execution_count": 3,
   "metadata": {},
   "outputs": [
    {
     "name": "stdout",
     "output_type": "stream",
     "text": [
      "0.log\n",
      "1.log\n",
      "5.log\n",
      "npi_finetune_0_test.tsv\n",
      "npi_finetune_1_test.tsv\n",
      "npi_finetune_5_test.tsv\n",
      "probing.log\n",
      "weak_probing.log\n"
     ]
    }
   ],
   "source": [
    "dir_name = \"npi_results\"\n",
    "directory = os.fsencode(dir_name)\n",
    "\n",
    "results = {}\n",
    "for f_name_bytes in os.listdir(directory):\n",
    "    f_name = os.fsdecode(f_name_bytes)\n",
    "    print(f_name)\n",
    "    if not f_name.endswith(\".log\"):\n",
    "        continue\n",
    "    with open(os.path.join(dir_name, f_name), \"r\") as f:\n",
    "        valid_list = []\n",
    "        for l in f.readlines():\n",
    "            l_split = l.split(' ')\n",
    "            if len(l_split) > 3 and (l_split[3].startswith(\"npi_probing\") or l_split[3].startswith(\"npi_finetune\")) and l_split[3].endswith(\"accuracy:\"):\n",
    "                valid_list.append(float(l_split[len(l_split) - 1]))\n",
    "        results[f_name.replace(\".log\", \"\")] = valid_list\n",
    "        "
   ]
  },
  {
   "cell_type": "code",
   "execution_count": 4,
   "metadata": {},
   "outputs": [
    {
     "name": "stdout",
     "output_type": "stream",
     "text": [
      "Log file: 0\n",
      "Num epochs: 25\n",
      "AUC: 0.274\n",
      "Best val: 0.0\n",
      "\n",
      "Log file: 1\n",
      "Num epochs: 35\n",
      "AUC: 0.8380000000000003\n",
      "Best val: 0.008000000000000007\n",
      "\n",
      "Log file: 5\n",
      "Num epochs: 40\n",
      "AUC: 0.8360000000000002\n",
      "Best val: 0.0\n",
      "\n",
      "Log file: probing\n",
      "Num epochs: 8\n",
      "AUC: 1.15\n",
      "Best val: 0.038000000000000034\n",
      "\n",
      "Log file: weak_probing\n",
      "Num epochs: 22\n",
      "AUC: 0.0\n",
      "Best val: 0.0\n",
      "\n"
     ]
    }
   ],
   "source": [
    "for k in results:\n",
    "    v = results[k]\n",
    "    error = 1 - np.array(v)\n",
    "    \n",
    "    print(\"Log file: {}\".format(k))\n",
    "    print(\"Num epochs: {}\".format(len(error)))\n",
    "    print(\"AUC: {}\".format(np.sum(error)))\n",
    "    print(\"Best val: {}\".format(np.min(error)))\n",
    "    print()"
   ]
  }
 ],
 "metadata": {
  "kernelspec": {
   "display_name": "Python 3",
   "language": "python",
   "name": "python3"
  },
  "language_info": {
   "codemirror_mode": {
    "name": "ipython",
    "version": 3
   },
   "file_extension": ".py",
   "mimetype": "text/x-python",
   "name": "python",
   "nbconvert_exporter": "python",
   "pygments_lexer": "ipython3",
   "version": "3.7.0"
  }
 },
 "nbformat": 4,
 "nbformat_minor": 2
}
